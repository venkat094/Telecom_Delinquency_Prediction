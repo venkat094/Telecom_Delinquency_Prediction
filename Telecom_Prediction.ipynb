{
 "cells": [
  {
   "cell_type": "code",
   "execution_count": 3,
   "metadata": {},
   "outputs": [],
   "source": [
    "import pandas as pd\n",
    "\n",
    "from sklearn.model_selection import train_test_split\n",
    "from sklearn.naive_bayes import BernoulliNB\n",
    "\n",
    "import random"
   ]
  },
  {
   "cell_type": "code",
   "execution_count": 5,
   "metadata": {},
   "outputs": [],
   "source": [
    "random.seed(5)\n",
    "read_data_2 = pd.read_csv('/home/venkatraman/Downloads/handover_23949266/venkatramaan/sample_data_intw.csv')\n",
    "Empty_values = read_data_2.fillna(0,axis=1)"
   ]
  },
  {
   "cell_type": "code",
   "execution_count": 3,
   "metadata": {},
   "outputs": [],
   "source": [
    "import numpy as np\n",
    "from sklearn.model_selection import cross_val_score\n",
    "X = Empty_values.iloc[:,2:-1]\n",
    "y = Empty_values.iloc[:,-1]"
   ]
  },
  {
   "cell_type": "code",
   "execution_count": 4,
   "metadata": {},
   "outputs": [],
   "source": [
    "X_train, X_dev, Y_train, Y_dev  = train_test_split(X, y, train_size=0.80, test_size=0.20)"
   ]
  },
  {
   "cell_type": "code",
   "execution_count": 5,
   "metadata": {},
   "outputs": [
    {
     "name": "stdout",
     "output_type": "stream",
     "text": [
      "Cross Validation Score BernoulliNB: 84.90%\n",
      "Dev Set score BernoulliNB: 85.10%\n"
     ]
    }
   ],
   "source": [
    "logreg = BernoulliNB(alpha=10.0, fit_prior=True)\n",
    "print(\"Cross Validation Score BernoulliNB: {:.2%}\".format(np.mean(cross_val_score(logreg, X_train, Y_train, cv=10))))\n",
    "logreg.fit(X_train, Y_train)\n",
    "print(\"Dev Set score BernoulliNB: {:.2%}\".format(logreg.score(X_dev, Y_dev)))"
   ]
  },
  {
   "cell_type": "code",
   "execution_count": 6,
   "metadata": {},
   "outputs": [
    {
     "data": {
      "text/html": [
       "<div>\n",
       "<style scoped>\n",
       "    .dataframe tbody tr th:only-of-type {\n",
       "        vertical-align: middle;\n",
       "    }\n",
       "\n",
       "    .dataframe tbody tr th {\n",
       "        vertical-align: top;\n",
       "    }\n",
       "\n",
       "    .dataframe thead th {\n",
       "        text-align: right;\n",
       "    }\n",
       "</style>\n",
       "<table border=\"1\" class=\"dataframe\">\n",
       "  <thead>\n",
       "    <tr style=\"text-align: right;\">\n",
       "      <th>Predict</th>\n",
       "      <th>0</th>\n",
       "      <th>1</th>\n",
       "      <th>All</th>\n",
       "    </tr>\n",
       "    <tr>\n",
       "      <th>Actual</th>\n",
       "      <th></th>\n",
       "      <th></th>\n",
       "      <th></th>\n",
       "    </tr>\n",
       "  </thead>\n",
       "  <tbody>\n",
       "    <tr>\n",
       "      <th>0</th>\n",
       "      <td>141</td>\n",
       "      <td>955</td>\n",
       "      <td>1096</td>\n",
       "    </tr>\n",
       "    <tr>\n",
       "      <th>1</th>\n",
       "      <td>1048</td>\n",
       "      <td>6237</td>\n",
       "      <td>7285</td>\n",
       "    </tr>\n",
       "    <tr>\n",
       "      <th>All</th>\n",
       "      <td>1189</td>\n",
       "      <td>7192</td>\n",
       "      <td>8381</td>\n",
       "    </tr>\n",
       "  </tbody>\n",
       "</table>\n",
       "</div>"
      ],
      "text/plain": [
       "Predict     0     1   All\n",
       "Actual                   \n",
       "0         141   955  1096\n",
       "1        1048  6237  7285\n",
       "All      1189  7192  8381"
      ]
     },
     "execution_count": 6,
     "metadata": {},
     "output_type": "execute_result"
    }
   ],
   "source": [
    "Y_dev_predict = logreg.predict(X_dev)\n",
    "pd.crosstab(pd.Series(Y_dev, name = 'Actual'), pd.Series(Y_dev_predict, name = 'Predict'), margins = True)"
   ]
  },
  {
   "cell_type": "code",
   "execution_count": 7,
   "metadata": {},
   "outputs": [
    {
     "name": "stdout",
     "output_type": "stream",
     "text": [
      "Accuracy for BernoulliNB 0.85\n",
      "Precision for BernoulliNB 0.92\n",
      "Recall for BernoulliNB 0.91\n",
      "-----------------------------------------------\n",
      "-----------------------------------------------\n",
      "-----------------------------------------------\n"
     ]
    }
   ],
   "source": [
    "from sklearn.metrics import accuracy_score, precision_score, recall_score\n",
    "print(\"Accuracy for BernoulliNB {0:.2f}\".format(accuracy_score(Y_dev, Y_dev_predict)))\n",
    "print(\"Precision for BernoulliNB {0:.2f}\".format(precision_score(Y_dev, Y_dev_predict)))\n",
    "print(\"Recall for BernoulliNB {0:.2f}\".format(recall_score(Y_dev, Y_dev_predict)))\n",
    "\n",
    "print (\"-----------------------------------------------\")\n",
    "print (\"-----------------------------------------------\")\n",
    "print (\"-----------------------------------------------\")"
   ]
  },
  {
   "cell_type": "code",
   "execution_count": 8,
   "metadata": {},
   "outputs": [
    {
     "name": "stdout",
     "output_type": "stream",
     "text": [
      "Cross Validation score DecisionTreeClassifier: 87.08%\n",
      "Dev Set score DecisionTreeClassifier: 87.24%\n"
     ]
    }
   ],
   "source": [
    "from sklearn.tree import DecisionTreeClassifier\n",
    "dte = DecisionTreeClassifier(max_depth=28, criterion = \"entropy\", min_samples_split=10)\n",
    "print(\"Cross Validation score DecisionTreeClassifier: {:.2%}\".format(np.mean(cross_val_score(dte, X_train, Y_train, cv=10))))\n",
    "dte.fit(X_train, Y_train)\n",
    "print(\"Dev Set score DecisionTreeClassifier: {:.2%}\".format(dte.score(X_dev, Y_dev)))"
   ]
  },
  {
   "cell_type": "code",
   "execution_count": 9,
   "metadata": {},
   "outputs": [
    {
     "name": "stdout",
     "output_type": "stream",
     "text": [
      "Accuracy for  DecisionTreeClassifier0.87\n",
      "Precision for DecisionTreeClassifier 0.93\n",
      "Recall for DecisionTreeClassifier 0.92\n",
      "AUC for  DecisionTreeClassifier0.73\n"
     ]
    }
   ],
   "source": [
    "Y_dev_predict = dte.predict(X_dev)\n",
    "pd.crosstab(pd.Series(Y_dev, name = 'Actual'), pd.Series(Y_dev_predict, name = 'Predict'), margins = True)\n",
    "from sklearn.metrics import accuracy_score, precision_score, recall_score, roc_auc_score\n",
    "print(\"Accuracy for  DecisionTreeClassifier{0:.2f}\".format(accuracy_score(Y_dev, Y_dev_predict)))\n",
    "print(\"Precision for DecisionTreeClassifier {0:.2f}\".format(precision_score(Y_dev, Y_dev_predict)))\n",
    "print(\"Recall for DecisionTreeClassifier {0:.2f}\".format(recall_score(Y_dev, Y_dev_predict)))\n",
    "print(\"AUC for  DecisionTreeClassifier{0:.2f}\".format(roc_auc_score(Y_dev, Y_dev_predict)))"
   ]
  },
  {
   "cell_type": "code",
   "execution_count": 10,
   "metadata": {},
   "outputs": [],
   "source": [
    "accuracy_dte = accuracy_score(Y_dev, Y_dev_predict)\n",
    "precision_dte = precision_score(Y_dev, Y_dev_predict)\n",
    "recall_dte = recall_score(Y_dev, Y_dev_predict)\n",
    "auc_dte = roc_auc_score(Y_dev, Y_dev_predict)"
   ]
  },
  {
   "cell_type": "code",
   "execution_count": 13,
   "metadata": {},
   "outputs": [],
   "source": [
    "\n",
    "# Visualizaing decision tree for Question 2 - detailed feature set\n",
    "import graphviz\n",
    "from IPython.display import Image\n",
    "import pydotplus\n",
    "from sklearn import tree\n",
    "dot_dt_q2 = tree.export_graphviz(dte, out_file=\"dt_q2.dot\", feature_names=X_train.columns, max_depth=2,\n",
    "                                 class_names=[\"No\",\"Readm\"], filled=True, rounded=True, special_characters=True)\n",
    "graph_dt_q2 = pydotplus.graph_from_dot_file('dt_q2.dot')\n",
    "Image(graph_dt_q2.create_png())\n",
    "import matplotlib.pyplot as plt"
   ]
  },
  {
   "cell_type": "code",
   "execution_count": 12,
   "metadata": {},
   "outputs": [
    {
     "name": "stdout",
     "output_type": "stream",
     "text": [
      "                 Feature  Importance\n",
      "12  medianmarechprebal30    0.034002\n",
      "15     sumamnt_ma_rech90    0.046845\n",
      "5      last_rech_date_ma    0.051182\n",
      "3               rental30    0.054035\n",
      "17  medianmarechprebal90    0.054820\n",
      "4               rental90    0.064166\n",
      "1           daily_decr30    0.066963\n",
      "0                    aon    0.080386\n",
      "13         cnt_ma_rech90    0.104559\n",
      "2           daily_decr90    0.262387\n"
     ]
    },
    {
     "data": {
      "image/png": "[encoded data removed]",
      "text/plain": [
       "<Figure size 720x432 with 1 Axes>"
      ]
     },
     "metadata": {},
     "output_type": "display_data"
    }
   ],
   "source": [
    "# Create list of top most features based on importance\n",
    "feature_names = X_train.columns\n",
    "feature_imports = dte.feature_importances_\n",
    "most_imp_features = pd.DataFrame([f for f in zip(feature_names,feature_imports)], columns=[\"Feature\", \"Importance\"]).nlargest(10, \"Importance\")\n",
    "most_imp_features.sort_values(by=\"Importance\", inplace=True)\n",
    "print(most_imp_features)\n",
    "plt.figure(figsize=(10,6))\n",
    "plt.barh(range(len(most_imp_features)), most_imp_features.Importance, align='center', alpha=0.8)\n",
    "plt.yticks(range(len(most_imp_features)), most_imp_features.Feature, fontsize=14)\n",
    "plt.xlabel('Importance')\n",
    "plt.title('Most important features - Decision Tree (entropy function, complex model)')\n",
    "plt.show()"
   ]
  }
 ],
 "metadata": {
  "kernelspec": {
   "display_name": "Python 3",
   "language": "python",
   "name": "python3"
  },
  "language_info": {
   "codemirror_mode": {
    "name": "ipython",
    "version": 3
   },
   "file_extension": ".py",
   "mimetype": "text/x-python",
   "name": "python",
   "nbconvert_exporter": "python",
   "pygments_lexer": "ipython3",
   "version": "3.6.4"
  }
 },
 "nbformat": 4,
 "nbformat_minor": 2
}
